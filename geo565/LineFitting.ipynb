{
 "cells": [
  {
   "cell_type": "markdown",
   "metadata": {},
   "source": [
    "# Contents:\n",
    "\n",
    "   - [Finding the Equation of a Line](#Finding-the-Equation-of-a-Line)\n",
    "       - [Simple Plot](#Simple-Plot)\n",
    "       - [Linear Algebra](#Linear-Algebra)\n",
    "           - [Problems with this Approach](#Problems-with-this-Approach)\n",
    "   - [Adding a Third Point](#Adding-a-Third-Point)\n",
    "   - [Line Fitting with more than 2 points](#Line-Fitting-with-more-than-2-points)\n",
    "   - [Possible Solution](#Possible-Solution)\n",
    "     - [Example](#Example)\n",
    "     - [Solution](#Solution)\n",
    "   - [Bring the Math](#Bring-the-Math)\n",
    "       - [Slope $m$](#Slope-$m$)\n",
    "       - [Intercept $b$](#Intercept-$b$)\n",
    "   - [Back to Reality](#Back-to-Reality)\n",
    "       - [Plot for visual confirmation](#Plot-for-visual-confirmation)\n",
    "   - [Doing it the Smart Way](#Doing-it-the-Smart-Way)\n",
    "       - [Letting other people do it for you](#Letting-other-people-do-it-for-you)\n",
    "       - [Numpy Arrays](#Numpy-Arrays)\n",
    "       - [R Squared Value](#R-Squared-value)\n",
    "       - [Cough](#Cough)\n",
    "       - [Visualization Confirmation](#Visualization-Confirmation)\n",
    "   - [Other Functional Forms](#Other-Functional-Forms)\n",
    "       - [Curvefit for a Sinusoid](#Curvefit-for-a-Sinusoid)\n",
    "       - [Make a sine function and a Data set with Noise](#Make-a-sine-function-and-a-Data-set-with-Noise)\n",
    "       - [Curvefit Usage](#Curvefit-Usage)\n",
    "       - [Bad Initial Guess](#Bad-Initial-Guess)\n",
    "       - [Why does it fail](#Why-Does-it-Fail)\n",
    "       - [Using a Non-Linear Solver](#Using-a-Non-Linear-Solver)"
   ]
  },
  {
   "cell_type": "markdown",
   "metadata": {},
   "source": [
    "## Finding the Equation of a Line"
   ]
  },
  {
   "cell_type": "markdown",
   "metadata": {},
   "source": [
    "Lets define two points\n",
    "\n",
    "  $$(2, 3) = (x1,y1)$$\n",
    "   \n",
    "   $$(8,23) = (x2,y2)$$\n",
    "\n",
    "What is the equation of the line that intersects both points?\n",
    "\n",
    "For 2 points you would typcially find the slope, $m$, using\n",
    "\n",
    "   $$m = (y2-y1) / (x2-x1)$$\n",
    "\n",
    "then find the y-intercept, $b$ using\n",
    "\n",
    "$$\\begin{eqnarray}\n",
    "    y   &=& m * x + b \\\\\n",
    "    b   &=& y - m * x \\\\\n",
    "    b_1 &=& y_1 - m * x_1 \\\\\n",
    "    b_1 &=& y_2 - m * x_2  \\\\\n",
    "    b_1 &=& b_2 \\\\\n",
    "    \\end{eqnarray}\n",
    "    $$\n",
    "    \n",
    "Let's determine the line"
   ]
  },
  {
   "cell_type": "code",
   "execution_count": 1,
   "metadata": {},
   "outputs": [],
   "source": [
    "# Define our points\n",
    "(x1,y1) = (2, 3)\n",
    "(x2,y2) = (8,23)"
   ]
  },
  {
   "cell_type": "code",
   "execution_count": 2,
   "metadata": {},
   "outputs": [
    {
     "data": {
      "text/plain": [
       "3.3333333333333335"
      ]
     },
     "execution_count": 2,
     "metadata": {},
     "output_type": "execute_result"
    }
   ],
   "source": [
    "# Calculate the slope\n",
    "m = (y2-y1) / (x2-x1)\n",
    "m"
   ]
  },
  {
   "cell_type": "code",
   "execution_count": 3,
   "metadata": {},
   "outputs": [
    {
     "data": {
      "text/plain": [
       "(-3.666666666666667, -3.666666666666668)"
      ]
     },
     "execution_count": 3,
     "metadata": {},
     "output_type": "execute_result"
    }
   ],
   "source": [
    "# Calculate the y-intercept (b)\n",
    "b1 = y1 - m * x1\n",
    "b2 = y2 - m * x2\n",
    "b1,b2"
   ]
  },
  {
   "cell_type": "markdown",
   "metadata": {},
   "source": [
    "### Simple Plot\n",
    "Now let's plot up the line so we now what it looks like. Visualizing things can actaully make a difference and can identify errors"
   ]
  },
  {
   "cell_type": "code",
   "execution_count": 4,
   "metadata": {},
   "outputs": [],
   "source": [
    "import matplotlib.pyplot as plt"
   ]
  },
  {
   "cell_type": "code",
   "execution_count": 5,
   "metadata": {},
   "outputs": [
    {
     "data": {
      "image/png": "[encoded data removed]",
      "text/plain": [
       "<Figure size 432x288 with 1 Axes>"
      ]
     },
     "metadata": {},
     "output_type": "display_data"
    }
   ],
   "source": [
    "plt.plot([x1,x2],[y1,y2],'ko')\n",
    "plt.plot([0,x2],[b2,y2],'red')\n",
    "plt.text(x1-1,y1+1,\"({},{})\".format(x1,y1),fontsize=12)\n",
    "plt.text(x2-1,y2+1,\"({},{})\".format(x2,y2),fontsize=12)\n",
    "plt.xlabel(\"thisium\")\n",
    "plt.ylabel(\"thatium\");"
   ]
  },
  {
   "cell_type": "markdown",
   "metadata": {},
   "source": [
    "### Linear Algebra \n",
    "We can do the same thing using Linear Algebra\n",
    "\n",
    "- [Matrix Multiplication](https://en.wikipedia.org/wiki/Matrix_multiplication)\n",
    "- [Linear Algebra](https://en.wikipedia.org/wiki/Linear_algebra)\n",
    "- [Matrix Inverse](https://en.wikipedia.org/wiki/Invertible_matrix)\n",
    "- [Linear Least Squares](https://en.wikipedia.org/wiki/Linear_least_squares)\n",
    "- [Numpy Least Squares](https://docs.scipy.org/doc/numpy/reference/generated/numpy.linalg.lstsq.html)\n",
    "- [Numpy dot](https://docs.scipy.org/doc/numpy/reference/generated/numpy.dot.html)\n",
    "- [Numpy Inverse](https://docs.scipy.org/doc/numpy/reference/generated/numpy.linalg.inv.html)\n",
    "- [Numpy PseudoInverse](https://docs.scipy.org/doc/numpy/reference/generated/numpy.linalg.pinv.html)"
   ]
  },
  {
   "cell_type": "code",
   "execution_count": 6,
   "metadata": {},
   "outputs": [
    {
     "name": "stdout",
     "output_type": "stream",
     "text": [
      "[[2 1]\n",
      " [8 1]]\n",
      "Inverse:         [ 3.33333333 -3.66666667]\n",
      "Pseudo Inverse:  [ 3.33333333 -3.66666667]\n",
      "Least Squares:   [ 3.33333333 -3.66666667]\n"
     ]
    }
   ],
   "source": [
    "import numpy as np\n",
    "# y = mx + b \n",
    "yt = np.array([y1,y2])\n",
    "At = np.array([[x1,1],[x2,1]])\n",
    "print(At)\n",
    "xt = np.dot(np.linalg.inv(At),yt)\n",
    "print(\"Inverse:        \", xt)\n",
    "xt = np.dot(np.linalg.pinv(At),yt)\n",
    "print(\"Pseudo Inverse: \", xt)\n",
    "xt = np.linalg.lstsq(At,yt, rcond=None)[0]\n",
    "print(\"Least Squares:  \", xt)"
   ]
  },
  {
   "cell_type": "markdown",
   "metadata": {},
   "source": [
    "#### Problems with this Approach\n",
    "- What happens when you add more points?\n",
    "- What happens when the function form in higher order than linear?"
   ]
  },
  {
   "cell_type": "markdown",
   "metadata": {},
   "source": [
    "## Adding a Third Point\n",
    "What if we add a third point at\n",
    "\n",
    "   $$(5,12) = (x_3,y_3)$$"
   ]
  },
  {
   "cell_type": "code",
   "execution_count": 7,
   "metadata": {},
   "outputs": [],
   "source": [
    "(x3,y3) = (5,12)"
   ]
  },
  {
   "cell_type": "code",
   "execution_count": 8,
   "metadata": {
    "scrolled": true
   },
   "outputs": [
    {
     "data": {
      "text/plain": [
       "Text(4, 13, '(5,12)')"
      ]
     },
     "execution_count": 8,
     "metadata": {},
     "output_type": "execute_result"
    },
    {
     "data": {
      "image/png": "[encoded data removed]",
      "text/plain": [
       "<Figure size 432x288 with 1 Axes>"
      ]
     },
     "metadata": {},
     "output_type": "display_data"
    }
   ],
   "source": [
    "plt.plot([x1,x2],[y1,y2],'ko')\n",
    "plt.plot([0,x2],[b2,y2],'red')\n",
    "plt.text(x1-1,y1+1,\"({},{})\".format(x1,y1),fontsize=12)\n",
    "plt.text(x2-1,y2+1,\"({},{})\".format(x2,y2),fontsize=12)\n",
    "plt.xlabel(\"thisium\")\n",
    "plt.ylabel(\"thatium\")\n",
    "plt.plot(x3,y3,'o', color='fuchsia')\n",
    "plt.text(x3-1,y3+1,\"({},{})\".format(x3,y3),fontsize=12)\n"
   ]
  },
  {
   "cell_type": "code",
   "execution_count": 9,
   "metadata": {},
   "outputs": [
    {
     "data": {
      "text/plain": [
       "array([ 3.33333333, -4.        ])"
      ]
     },
     "execution_count": 9,
     "metadata": {},
     "output_type": "execute_result"
    }
   ],
   "source": [
    "# y = mx + b \n",
    "y = np.array([y1,y2,y3]).T\n",
    "A = np.array([[x1,1],[x2,1],[x3,1]])\n",
    "np.dot(np.linalg.pinv(A),y)"
   ]
  },
  {
   "cell_type": "markdown",
   "metadata": {},
   "source": [
    "## Line Fitting with more than 2 points\n",
    "We did not choose wisely there. The point is not on the line.  What do we do? Options:\n",
    "\n",
    "   - Pick two points, ignoring the third\n",
    "   - Calculate three different lines, picking the best or averaging\n",
    "   - Write equations for all three lines and solve for the line\n",
    "\n",
    "For the first two options, imagine that third point is\n",
    "\n",
    "   $$(5,30) = (x_3,y_3)$$\n"
   ]
  },
  {
   "cell_type": "code",
   "execution_count": 10,
   "metadata": {},
   "outputs": [
    {
     "data": {
      "text/plain": [
       "Text(4, 31, '(5,30)')"
      ]
     },
     "execution_count": 10,
     "metadata": {},
     "output_type": "execute_result"
    },
    {
     "data": {
      "image/png": "[encoded data removed]",
      "text/plain": [
       "<Figure size 432x288 with 1 Axes>"
      ]
     },
     "metadata": {},
     "output_type": "display_data"
    }
   ],
   "source": [
    "(x3,y3) = (5,30)\n",
    "plt.plot([x1,x2],[y1,y2],'ko')\n",
    "plt.plot([0,x2],[b2,y2],'red')\n",
    "plt.text(x1-1,y1+1,\"({},{})\".format(x1,y1),fontsize=12)\n",
    "plt.text(x2-1,y2+1,\"({},{})\".format(x2,y2),fontsize=12)\n",
    "plt.xlabel(\"thisium\")\n",
    "plt.ylabel(\"thatium\")\n",
    "plt.plot(x3,y3,'o', color='fuchsia')\n",
    "plt.text(x3-1,y3+1,\"({},{})\".format(x3,y3),fontsize=12)"
   ]
  },
  {
   "cell_type": "markdown",
   "metadata": {},
   "source": [
    "## Possible Solution\n",
    "\n",
    "Lets choose the last option of writing out all the equations\n",
    "$$\\begin{eqnarray}\n",
    "    y_1 &=& m x_1 + b\\\\\n",
    "    y_2 &=& m x_2 + b\\\\\n",
    "    y_3 &=& m x_3 + b\n",
    "    \\end{eqnarray}\n",
    "  $$  \n",
    "That wasn't so hard, but repeatative if you ask me.\n",
    "\n",
    "How do we solve this? Well, we are back in the same situation we were in before, and we know a line does not exactly go through all three points.  Here we want to find the best fitting values for the values\n",
    "\n",
    "   - $m$ \n",
    "   - $b$\n",
    "   \n",
    "### Example\n",
    "You have seen these types of problems before, e.g.  find the $x$ value where $f(x) = (x-3)^2 + 10$ reaches its mimimum\n",
    "   \n",
    "### Solution\n",
    "   1. Take the derivative of $f(x)$ with respect to $x$, i.e. $df/dx$\n",
    "   2. Set $df/dx$ equal to 0, i.e. $df/dx = 0$\n",
    "   3. Solve to $df/dx = 0$ for $x$    "
   ]
  },
  {
   "cell_type": "markdown",
   "metadata": {},
   "source": [
    "$$\n",
    "\\begin{eqnarray}\n",
    "f(x) &=& (x-3)^2 + 10 \\\\\n",
    "\\dfrac{d}{dx}f(x) &=& 2 (x-3) \\\\\n",
    " &=& 2 (x-3)= 0\\\\\n",
    " && x = 3 \n",
    "\\end{eqnarray}\n",
    "$$"
   ]
  },
  {
   "cell_type": "markdown",
   "metadata": {},
   "source": [
    "We can do the same for the set of equations above\n",
    "\n",
    "   1. Set up a function we would like to find the minumum of\n",
    "   2. Take the derivatives (partial in this case) of the function\n",
    "   3. Solve for equation for the best fitting line\n",
    "\n",
    "Lets do it"
   ]
  },
  {
   "cell_type": "markdown",
   "metadata": {},
   "source": [
    "## Bring the Math\n",
    "First define the **misfit function**: $\\chi$\n",
    "$$\\begin{eqnarray}\n",
    "\\chi(m,b) =& (y_1 - m x_1 - b)^2 + \\\\\n",
    "&(y_2 - m x_2 - b)^2 + \\\\\n",
    "&(y_3 - m x_3 - b)^2 \n",
    "\\end{eqnarray}$$"
   ]
  },
  {
   "cell_type": "markdown",
   "metadata": {},
   "source": [
    "Now take the partial derivatives with respect to $m$ and set equal to $0$\n",
    "$$\\begin{eqnarray}\n",
    "\\dfrac{\\partial\\chi(m,b)}{\\partial m} &=& 2(y_1 - m x_1 - b)(-x_1) + \\\\\n",
    "&&2(y_2 - m x_2 - b)(-x_2) + \\\\\n",
    "&&2(y_3 - m x_3 - b)(-x_3) \n",
    "\\\\\n",
    "0&=&-x_1y_1 + m x_1^2 + bx_1 + \\\\\n",
    "&&-x_2y_2 + m x_2^2 + bx_2 + \\\\\n",
    "&&-x_3y_3 + m x_3^2 + bx_3 \n",
    "\\\\\n",
    "0&=& -(x_1y_1 + x_2y_2 + x_3y_3) + \\\\\n",
    "&& m(x_1^2 + x_2^2 + x_3^2) + \\\\\n",
    "&& b(x_1+x_2+x_3) \n",
    "\\\\\n",
    "0 &=& -\\sum_{i=1}^{3} x_iy_i + m \\sum_{i=1}^{3} x_i^2 + b \\sum_{i=1}^3 x_i\n",
    "\\end{eqnarray}$$"
   ]
  },
  {
   "cell_type": "markdown",
   "metadata": {},
   "source": [
    "and with repsect to $b$ and set equal to $0$\n",
    "$$\\begin{eqnarray}\n",
    "\\dfrac{\\partial\\chi(m,b)}{\\partial b} &=& -2(y_1 - m x_1 - b) + \\\\\n",
    "&&-2(y_2 - m x_2 - b) + \\\\\n",
    "&&-2(y_3 - m x_3 - b) \n",
    "\\\\\n",
    "0&=& -(y_1 + y_2 + y_3) + \\\\\n",
    "&& m(x_1 + x_2 + x_3) + \\\\\n",
    "&& 3b\n",
    "\\\\\n",
    "0 &=& -\\sum_{i=1}^{3} y_i + m \\sum_{i=1}^{3} x_i + 3 b\n",
    "\\end{eqnarray}$$"
   ]
  },
  {
   "cell_type": "markdown",
   "metadata": {},
   "source": [
    "Now we have two equations and two unknowns which we can solve:\n",
    "$$\n",
    "\\begin{eqnarray}\n",
    "\\sum x_i y_i &=& \\sum x_i^2 m + \\sum x_i b \\\\\n",
    "\\sum y_i &=& \\sum x_i m + 3 b\n",
    "\\end{eqnarray}\n",
    "$$\n",
    "\n",
    "$$\n",
    "\\begin{eqnarray}\n",
    "s_{xy} &=& s_{xx} m + s_{x} b \\\\\n",
    "s_{y} &=& s_{x} m + n b\n",
    "\\end{eqnarray}\n",
    "$$"
   ]
  },
  {
   "cell_type": "markdown",
   "metadata": {},
   "source": [
    "Isolate the parameter $b$:\n",
    "\n",
    "$$\n",
    "\\begin{eqnarray}\n",
    "\\dfrac{s_{xy}}{s_{x}} &=& \\dfrac{s_{xx}}{s_{x}} m + b \\\\\n",
    "\\dfrac{s_{y}}{n} &=& \\dfrac{s_{x}}{n}m +  b\n",
    "\\end{eqnarray}\n",
    "$$\n",
    "Set those equations equal to each other\n",
    "$$\n",
    "\\begin{eqnarray}\n",
    "\\dfrac{s_{xy}}{s_{x}} - \\dfrac{s_{xx}}{s_{x}} m &=&\\dfrac{s_{y}}{n} - \\dfrac{s_{x}}{n}m \\\\\n",
    "\\end{eqnarray}\n",
    "$$\n",
    "Solve for $m$\n",
    "$$\n",
    "\\begin{eqnarray}\n",
    "\\dfrac{s_{xy}}{s_{x}} -\\dfrac{s_{y}}{n} &=& \\dfrac{s_{xx}}{s_{x}} m -\\dfrac{s_{x}}{n}m   \\\\\n",
    "\\dfrac{s_{xy}n - s_y s_{x}}{s_x n} &=& m \\dfrac{s_{xx}n -s_x s_x }{n s_x} \\\\\n",
    "s_{xy}n - s_y s_{x} &=& m \\left(s_{xx}n - s_x s_x \\right) \\\\\n",
    "\\end{eqnarray}\n",
    "$$\n",
    "### Slope $m$\n",
    "$$\n",
    "\\begin{eqnarray}\n",
    "m &=& \\dfrac{s_{xy}n - s_y s_{x} }{ s_{xx}n - s_x s_x }\n",
    "\\end{eqnarray}\n",
    "$$"
   ]
  },
  {
   "cell_type": "markdown",
   "metadata": {},
   "source": [
    "Now we solve for $b$ by inserting the solution for $m$ into one of the equations above:\n",
    "$$\n",
    "\\begin{eqnarray}\n",
    "\\dfrac{-s_{y}}{n} &=& \\dfrac{s_{x}}{n}m +  b\\\\\n",
    "\\dfrac{-s_y}{n} &=& \\dfrac{s_x}{n} \\left(\\dfrac{s_{xy}n - s_y s_{x} }{ s_{xx}n  -s_x s_x }\\right) + b \\\\\n",
    "\\end{eqnarray}\n",
    "$$\n",
    "\n",
    "Isolate b and simplify\n",
    "$$\n",
    "\\begin{eqnarray}\n",
    "b &=& \\dfrac{s_y}{n} - \\dfrac{s_x}{n} \\left(\\dfrac{s_{xy}n - s_y s_{x} }{ s_{xx}n -s_x s_x }\\right)\\\\\n",
    "\\end{eqnarray}\n",
    "$$\n",
    "\n",
    "Get a common demoninator\n",
    "$$\n",
    "\\begin{eqnarray}\n",
    "b &=& \\dfrac{s_y (s_{xx}n -s_x s_x)}{n(s_{xx}n-s_x s_x)} - \\dfrac{s_x (s_{xy}n - s_y s_{x} )}{ n(s_{xx}n -s_x s_x )} \\\\\n",
    "b &=& \\dfrac{s_y (s_{xx}n -s_x s_x)  - s_x (s_{xy}n - s_y s_{x} )}{ n(s_{xx}n -s_x s_x )} \\\\\n",
    "\\end{eqnarray}\n",
    "$$\n",
    "\n",
    "Expand the terms and collect / remove common terms and factors\n",
    "$$\n",
    "\\begin{eqnarray}\n",
    "b &=& \\dfrac{s_y s_{xx}n - s_y s_x s_x  - s_x s_{xy}n + s_x s_y s_{x}}{ n(s_{xx}n -s_x s_x )} \\\\\n",
    "b &=& \\dfrac{s_y s_{xx}n  - s_x s_{xy}n }{ n(s_{xx}n -s_x s_x )} \\\\\n",
    "\\end{eqnarray}\n",
    "$$\n",
    "### Intercept $b$\n",
    "$$\n",
    "\\begin{eqnarray}\n",
    "b &=& \\dfrac{s_y s_{xx}  - s_x s_{xy} }{ s_{xx}n -s_x s_x } \\\\\n",
    "\\end{eqnarray}\n",
    "$$"
   ]
  },
  {
   "cell_type": "markdown",
   "metadata": {},
   "source": [
    "## Back to Reality"
   ]
  },
  {
   "cell_type": "code",
   "execution_count": 11,
   "metadata": {},
   "outputs": [
    {
     "data": {
      "text/plain": [
       "(3.3333333333333335, 2.0)"
      ]
     },
     "execution_count": 11,
     "metadata": {},
     "output_type": "execute_result"
    }
   ],
   "source": [
    "n = 3\n",
    "sx  = sum([x1,x2,x3])\n",
    "sy  = sum([y1,y2,y3])\n",
    "sxx = sum([x1*x1,x2*x2,x3*x3])\n",
    "sxy = sum([x1*y1,x2*y2,x3*y3])\n",
    "d = sxx * n - sx * sx\n",
    "b = (sy * sxx - sx * sxy)/d\n",
    "m = (sxy * n - sy * sx) / d\n",
    "m,b"
   ]
  },
  {
   "cell_type": "markdown",
   "metadata": {},
   "source": [
    "### Plot for visual confirmation"
   ]
  },
  {
   "cell_type": "code",
   "execution_count": 12,
   "metadata": {},
   "outputs": [
    {
     "data": {
      "text/plain": [
       "Text(4, 31, '(5,30)')"
      ]
     },
     "execution_count": 12,
     "metadata": {},
     "output_type": "execute_result"
    },
    {
     "data": {
      "image/png": "[encoded data removed]",
      "text/plain": [
       "<Figure size 432x288 with 1 Axes>"
      ]
     },
     "metadata": {},
     "output_type": "display_data"
    }
   ],
   "source": [
    "plt.plot([x1,x2],[y1,y2],'ko')\n",
    "plt.plot([0,10],[m*0 + b, m*10+b],'red')\n",
    "plt.text(x1-1,y1+1,\"({},{})\".format(x1,y1),fontsize=12)\n",
    "plt.text(x2-1,y2+1,\"({},{})\".format(x2,y2),fontsize=12)\n",
    "plt.xlabel(\"thisium\")\n",
    "plt.ylabel(\"thatium\")\n",
    "plt.plot(x3,y3,'o', color='fuchsia')\n",
    "plt.text(x3-1,y3+1,\"({},{})\".format(x3,y3),fontsize=12)"
   ]
  },
  {
   "cell_type": "markdown",
   "metadata": {},
   "source": [
    "Wow, that was too much math, do we have to do that every time? Well no. Recognize the equations\n",
    "\n",
    "$$\n",
    "\\begin{eqnarray}\n",
    "\\sum x_i y_i &=& \\sum x_i^2 m + \\sum x_i b \\\\\n",
    "\\sum y_i &=& \\sum x_i m + n b\n",
    "\\end{eqnarray}\n",
    "$$\n",
    "\n",
    "are not dependent on the number of data points except for that n, which is the number of data points.   \n",
    "\n",
    "## Doing it the Smart Way\n",
    "#### Letting other people do it for you\n",
    "Smart people have already done this for you so you do not have to do it again. Introducing\n",
    "[NumPy Polyfit](https://docs.scipy.org/doc/numpy/reference/generated/numpy.polyfit.html)"
   ]
  },
  {
   "cell_type": "code",
   "execution_count": 13,
   "metadata": {},
   "outputs": [
    {
     "data": {
      "text/plain": [
       "array([3.33333333, 2.        ])"
      ]
     },
     "execution_count": 13,
     "metadata": {},
     "output_type": "execute_result"
    }
   ],
   "source": [
    "import numpy as np\n",
    "x = np.array([x1,x2,x3])\n",
    "y = np.array([y1,y2,y3])\n",
    "np.polyfit(x,y, 1)"
   ]
  },
  {
   "cell_type": "markdown",
   "metadata": {},
   "source": [
    "Wow, those values look familiar, and it was way easier.  We can now compute the residual of the fit using our **misfit** function\n",
    "\n",
    "$$\n",
    "\\chi(m,b) = \\sum (y_i - m x_i - b)^2\n",
    "$$\n",
    "\n",
    "but that means we need the solution at every data point; Introducting [Numpy Polyval](https://docs.scipy.org/doc/numpy/reference/generated/numpy.polyval.html)\n",
    "\n",
    "#### Numpy Arrays\n",
    "Since we have [numpy](http://www.numpy.org/) loaded now, we can make arrays, simplifying the expressions"
   ]
  },
  {
   "cell_type": "code",
   "execution_count": 14,
   "metadata": {},
   "outputs": [
    {
     "name": "stdout",
     "output_type": "stream",
     "text": [
      "[3.33333333 2.        ]\n"
     ]
    },
    {
     "data": {
      "text/plain": [
       "192.66666666666669"
      ]
     },
     "execution_count": 14,
     "metadata": {},
     "output_type": "execute_result"
    }
   ],
   "source": [
    "xi = np.array([x1,x2,x3]) # Make an array\n",
    "yi = np.array([y1,y2,y3]) # ... and another one\n",
    "\n",
    "# Calculate the slope and intercept (like before)\n",
    "p3 = np.polyfit(xi, yi, 1)\n",
    "print(p3)\n",
    "\n",
    "# Compute predicted values\n",
    "yp = np.polyval(p3,xi)\n",
    "\n",
    "# Compute the error\n",
    "chi = sum((yi - yp)**2)\n",
    "chi"
   ]
  },
  {
   "cell_type": "markdown",
   "metadata": {},
   "source": [
    "That misfit value is not, uhh, useful; it is just some large number.  It is only useful in reference to other values. Let's try normalizing it with respect to something.\n",
    "\n",
    "### R-Squared value\n",
    "Typically, people like to use something called \"R-squared\" otherwise known as the [Coefficient of Determinatio](https://en.wikipedia.org/wiki/Coefficient_of_determination)\n",
    "\n",
    "$$ R^2 = 1 - \\dfrac{\\sum (y_i - m x_i - b)^2}{\\sum (y_i - \\bar{y})^2}$$\n",
    "\n",
    "The demoninator, $\\sum (y_i - \\bar{y})^2$, is the [total sum of squares](https://en.wikipedia.org/wiki/Total_sum_of_squares), and looks a lot like the variance, but without a normalization factor of $n$\n",
    "\n",
    "The numerator is out **misfit** function, $\\chi(m,b)$"
   ]
  },
  {
   "cell_type": "code",
   "execution_count": 15,
   "metadata": {},
   "outputs": [
    {
     "data": {
      "text/plain": [
       "0.5093378607809846"
      ]
     },
     "execution_count": 15,
     "metadata": {},
     "output_type": "execute_result"
    }
   ],
   "source": [
    "ym = np.mean(yi)\n",
    "TSS = sum( (yi - ym)**2 )\n",
    "R2 = 1.0 - chi / TSS\n",
    "R2"
   ]
  },
  {
   "cell_type": "markdown",
   "metadata": {},
   "source": [
    "#### Cough\n",
    "Wow, that is a bad fit."
   ]
  },
  {
   "cell_type": "markdown",
   "metadata": {},
   "source": [
    "Lets try our original point, before I changed it.\n",
    "\n",
    "$$(5,12) = (x3,y3)$$"
   ]
  },
  {
   "cell_type": "code",
   "execution_count": 16,
   "metadata": {},
   "outputs": [],
   "source": [
    "(x4,y4) = (5,12)"
   ]
  },
  {
   "cell_type": "code",
   "execution_count": 17,
   "metadata": {},
   "outputs": [
    {
     "name": "stdout",
     "output_type": "stream",
     "text": [
      "[ 3.33333333 -4.        ]\n",
      "misfit: 0.6666666666666655\n"
     ]
    },
    {
     "data": {
      "text/plain": [
       "0.9966777408637874"
      ]
     },
     "execution_count": 17,
     "metadata": {},
     "output_type": "execute_result"
    }
   ],
   "source": [
    "xi = np.array([x1,x2,x4])\n",
    "yi = np.array([y1,y2,y4])\n",
    "\n",
    "# Calculate the slope and intercept (like before)\n",
    "p4 = np.polyfit(xi, yi, 1)\n",
    "print(p4)\n",
    "# Compute predicted values\n",
    "yp = np.polyval(p4,xi)\n",
    "\n",
    "# Compute the error\n",
    "chi = sum((yi - yp)**2)\n",
    "print(\"misfit:\", chi)\n",
    "\n",
    "# Mean of the data\n",
    "ym = np.mean(yi)\n",
    "\n",
    "# Total Sum of Squares\n",
    "TSS = sum( (yi - ym)**2 )\n",
    "\n",
    "# R-Squared\n",
    "R2 = 1.0 - chi / TSS\n",
    "R2"
   ]
  },
  {
   "cell_type": "markdown",
   "metadata": {},
   "source": [
    "Ahh, that feels like a better fit, and it is.\n",
    "### Visualization Confirmation"
   ]
  },
  {
   "cell_type": "code",
   "execution_count": 18,
   "metadata": {},
   "outputs": [
    {
     "data": {
      "image/png": "[encoded data removed]",
      "text/plain": [
       "<Figure size 432x288 with 1 Axes>"
      ]
     },
     "metadata": {},
     "output_type": "display_data"
    }
   ],
   "source": [
    "plt.plot([x1,x2],[y1,y2],'ko',label=\"Original points\")\n",
    "\n",
    "plt.text(x1-1,y1+1,\"({},{})\".format(x1,y1),fontsize=12)\n",
    "plt.text(x2-1,y2+1,\"({},{})\".format(x2,y2),fontsize=12)\n",
    "\n",
    "# Data fits\n",
    "plt.plot(xi,np.polyval(p3,xi),'fuchsia',label=\"Poor Data\")\n",
    "plt.plot(xi,np.polyval(p4,xi),'blue', label=\"Better Data\")\n",
    "\n",
    "# Poor data and text label\n",
    "plt.plot(x3,y3,'o', color='fuchsia')\n",
    "plt.text(x3-1,y3+1,\"({},{})\".format(x3,y3),fontsize=12)\n",
    "\n",
    "# Better data and text label\n",
    "plt.plot(x4,y4,'o', color='blue')\n",
    "plt.text(x4-1,y4+1,\"({},{})\".format(x4,y4),fontsize=12)\n",
    "\n",
    "# Extra Goodies\n",
    "plt.xlim(0,9)\n",
    "plt.ylim(0,33)\n",
    "plt.xlabel(\"thisium\")\n",
    "plt.ylabel(\"thatium\")\n",
    "plt.legend();"
   ]
  },
  {
   "cell_type": "markdown",
   "metadata": {},
   "source": [
    "# Other Functional Forms\n",
    "\n",
    "Polynominals of any order, e.g. $f(x) = a x^4 + b x^3 + c x^2 + d x + e$ are easily handled using **numpy.polyval** by changing the degree value.\n",
    "\n",
    "Other functional forms can be fit by either starting with the orignal equations and following the same method **provided the equations are linear with respect to the parameters**; No power terms, no sin, cos or tan functions, no expoentials.\n",
    "\n",
    "For more complex, non-linear functions we can use [scipy.optimize.curvefit](https://docs.scipy.org/doc/scipy/reference/generated/scipy.optimize.curve_fit.html).  \n",
    "\n",
    "\n",
    "The use of [scipy.optimize.curvefit](https://docs.scipy.org/doc/scipy/reference/generated/scipy.optimize.curve_fit.html) can be initially confusing, but easier to understand with an example.\n",
    "\n",
    "## Curvefit for a Sinusoid"
   ]
  },
  {
   "cell_type": "code",
   "execution_count": 19,
   "metadata": {},
   "outputs": [],
   "source": [
    "T = 27.456\n",
    "A = 0.81   \n",
    "phi = 1.27\n",
    "x = np.arange(0,100) # Make an array from 0 to 99"
   ]
  },
  {
   "cell_type": "markdown",
   "metadata": {},
   "source": [
    "#### Make a sine function and a Data set with Noise"
   ]
  },
  {
   "cell_type": "code",
   "execution_count": 20,
   "metadata": {},
   "outputs": [],
   "source": [
    "def sine_func(x, A, T, phi):\n",
    "    y = A * np.sin( 2 * np.pi * x / T + phi )\n",
    "    return y"
   ]
  },
  {
   "cell_type": "code",
   "execution_count": 21,
   "metadata": {},
   "outputs": [
    {
     "data": {
      "text/plain": [
       "[<matplotlib.lines.Line2D at 0x10f91ecf8>]"
      ]
     },
     "execution_count": 21,
     "metadata": {},
     "output_type": "execute_result"
    },
    {
     "data": {
      "image/png": "[encoded data removed]",
      "text/plain": [
       "<Figure size 432x288 with 1 Axes>"
      ]
     },
     "metadata": {},
     "output_type": "display_data"
    }
   ],
   "source": [
    "y = sine_func(x, A,T,phi) + np.random.normal(0.0, 0.10, size=x.shape)\n",
    "plt.plot(x,y,'ko')"
   ]
  },
  {
   "cell_type": "markdown",
   "metadata": {},
   "source": [
    "### Curvefit Usage"
   ]
  },
  {
   "cell_type": "code",
   "execution_count": 22,
   "metadata": {},
   "outputs": [],
   "source": [
    "import scipy\n",
    "from scipy.optimize import curve_fit"
   ]
  },
  {
   "cell_type": "code",
   "execution_count": 23,
   "metadata": {},
   "outputs": [
    {
     "name": "stdout",
     "output_type": "stream",
     "text": [
      "[ 0.81459965 27.45157747  1.27025608]\n",
      "[ 0.81  27.456  1.27 ]\n"
     ]
    },
    {
     "data": {
      "text/plain": [
       "[<matplotlib.lines.Line2D at 0x1181fc2e8>]"
      ]
     },
     "execution_count": 23,
     "metadata": {},
     "output_type": "execute_result"
    },
    {
     "data": {
      "image/png": "[encoded data removed]",
      "text/plain": [
       "<Figure size 432x288 with 1 Axes>"
      ]
     },
     "metadata": {},
     "output_type": "display_data"
    }
   ],
   "source": [
    "# Initial Guess\n",
    "guess = [1.0, 22.0, 0.0]\n",
    "# Run the Curvefit\n",
    "popt, pcov = curve_fit(sine_func, x, y, p0 = guess)\n",
    "\n",
    "# Solution\n",
    "print(popt)\n",
    "print(np.array([A,T,phi]))\n",
    "\n",
    "# Visualization\n",
    "yp = sine_func(x, popt[0],popt[1],popt[2])\n",
    "plt.plot(x,yp)\n",
    "plt.plot(x,y,'ko')"
   ]
  },
  {
   "cell_type": "markdown",
   "metadata": {},
   "source": [
    "### Bad Initial Guess\n",
    "\n",
    "Sometimes a bad initial guess can result in a poor final fit"
   ]
  },
  {
   "cell_type": "code",
   "execution_count": 24,
   "metadata": {},
   "outputs": [
    {
     "name": "stdout",
     "output_type": "stream",
     "text": [
      "[ 0.21431202 19.77006956 -0.02781425]\n",
      "[ 0.81  27.456  1.27 ]\n"
     ]
    },
    {
     "data": {
      "text/plain": [
       "[<matplotlib.lines.Line2D at 0x10f92f0f0>]"
      ]
     },
     "execution_count": 24,
     "metadata": {},
     "output_type": "execute_result"
    },
    {
     "data": {
      "image/png": "[encoded data removed]",
      "text/plain": [
       "<Figure size 432x288 with 1 Axes>"
      ]
     },
     "metadata": {},
     "output_type": "display_data"
    }
   ],
   "source": [
    "# Poor Initial Guess\n",
    "guess = [1.0, 21.0, 0.0]\n",
    "popt, pcov = curve_fit(sine_func, x, y, p0 = guess)\n",
    "\n",
    "# Solution\n",
    "print(popt)\n",
    "print(np.array([A,T,phi]))\n",
    "\n",
    "# Visualization\n",
    "yp = sine_func(x, popt[0],popt[1],popt[2])\n",
    "plt.plot(x,yp)\n",
    "plt.plot(x,y,'ko')"
   ]
  },
  {
   "cell_type": "markdown",
   "metadata": {},
   "source": [
    "### Why Does it Fail\n",
    "\n",
    "Lets perform a grid search to understand the shape of the misfit function; or at least some representation of it. Here we will use a least squares misfit between the data and model\n",
    "\n",
    "$$ \\sum (y_i - y_{ip})^2 $$\n",
    "$$ \\sum \\left(y_i - A \\sin\\left(\\dfrac{2 \\pi x}{T} + \\phi\\right)\\right)^2 $$"
   ]
  },
  {
   "cell_type": "code",
   "execution_count": 25,
   "metadata": {},
   "outputs": [],
   "source": [
    "def calc_misfit(pars, *args):\n",
    "    A,T,phi = pars\n",
    "    x,y = args\n",
    "    chi = np.sum((y - sine_func(x,A,T,phi))**2)\n",
    "    return chi"
   ]
  },
  {
   "cell_type": "code",
   "execution_count": 26,
   "metadata": {},
   "outputs": [
    {
     "data": {
      "image/png": "[encoded data removed]",
      "text/plain": [
       "<Figure size 936x576 with 6 Axes>"
      ]
     },
     "metadata": {},
     "output_type": "display_data"
    }
   ],
   "source": [
    "Ts = np.arange(10.,41.,0.33)\n",
    "As = np.arange(0.5,1.5,0.05)\n",
    "Ps = np.linspace(0,np.pi,30)\n",
    "\n",
    "misfit2 = []\n",
    "for ti in Ts:\n",
    "    for pj in Ps:\n",
    "        for ai in As:\n",
    "            misfit2.append( calc_misfit((ai,ti,pj),x,y ))\n",
    "misfit2 = np.array(misfit2)\n",
    "misfit2 = misfit2.reshape([Ts.shape[-1],Ps.shape[-1],As.shape[-1]])\n",
    "\n",
    "nt,nphi,na = misfit2.shape  # Shape of the misfit surface\n",
    "\n",
    "# Plot the misfit surfaces\n",
    "plt.figure(figsize=(13,8))\n",
    "plt.subplot(2,2,1)\n",
    "plt.pcolormesh(As,Ts,misfit2[:,nphi//2,:])\n",
    "plt.colorbar()\n",
    "plt.xlabel(\"Amplitude\")\n",
    "plt.ylabel(\"Period\");\n",
    "\n",
    "plt.subplot(2,2,2)\n",
    "plt.pcolormesh(Ps,Ts,misfit2[:,:,na//2])\n",
    "plt.colorbar()\n",
    "plt.xlabel(\"Phase\")\n",
    "plt.ylabel(\"Period\");\n",
    "\n",
    "plt.subplot(2,2,3)\n",
    "plt.pcolormesh(As,Ps,misfit2[nt//2,:,:])\n",
    "plt.colorbar()\n",
    "plt.xlabel(\"Amplitude\")\n",
    "plt.ylabel(\"Phase\");"
   ]
  },
  {
   "cell_type": "markdown",
   "metadata": {},
   "source": [
    "The optimization fails because the solution gets caught in a local minimum, **the horrors**.  In the case of misfit surfaces with local minima, we should not rely on **local optimization methods**, but use a non-linear solver that searches the full parameter space to look for a **global minumum**."
   ]
  },
  {
   "cell_type": "markdown",
   "metadata": {},
   "source": [
    "### Using a Non-Linear Solver\n",
    "\n",
    "The Brute force solver is real **dumb**, but effective for small scale problems.  It explores the entire parameter space, or at least what you deem it to be.  It can then **finish** up for you."
   ]
  },
  {
   "cell_type": "code",
   "execution_count": 27,
   "metadata": {},
   "outputs": [
    {
     "name": "stdout",
     "output_type": "stream",
     "text": [
      "[ 0.81459276 27.45162976  1.27027625]\n",
      "[ 0.81  27.456  1.27 ]\n"
     ]
    }
   ],
   "source": [
    "from scipy.optimize import brute, fmin\n",
    "\n",
    "ranges = (slice(0.5,1.5,0.1),slice(10,40,0.5),slice(0,np.pi,np.pi/25))\n",
    "\n",
    "pb = brute(calc_misfit, ranges, args=(x,y), finish=fmin)\n",
    "\n",
    "print(pb)\n",
    "print(np.array([A,T,phi]))"
   ]
  },
  {
   "cell_type": "code",
   "execution_count": null,
   "metadata": {},
   "outputs": [],
   "source": []
  }
 ],
 "metadata": {
  "kernelspec": {
   "display_name": "Python 3",
   "language": "python",
   "name": "python3"
  },
  "language_info": {
   "codemirror_mode": {
    "name": "ipython",
    "version": 3
   },
   "file_extension": ".py",
   "mimetype": "text/x-python",
   "name": "python",
   "nbconvert_exporter": "python",
   "pygments_lexer": "ipython3",
   "version": "3.5.6"
  }
 },
 "nbformat": 4,
 "nbformat_minor": 2
}
